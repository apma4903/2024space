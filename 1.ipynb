{
 "cells": [
  {
   "cell_type": "markdown",
   "metadata": {},
   "source": [
    "# Spacecraft Dynamics Analysis Using Free and Open-Source Software (FOSS)\n",
    "This Google Colab notebook covers spacecraft dynamics analysis using only open-source tools. Topics include kinematic and kinetic analysis, finite element analysis, modal analysis, multibody dynamics, vibrations and shock analysis, and coupled loads analysis."
   ]
  },
  {
   "cell_type": "code",
   "metadata": {},
   "source": [
    "# 1. Setup and Installation\n",
    "# Install the necessary libraries and dependencies\n",
    "!apt-get update\n",
    "!apt-get install -y calculix mbdyn software-properties-common\n",
    "!add-apt-repository ppa:fenics-packages/fenics -y\n",
    "!apt-get update\n",
    "!apt-get install -y fenics\n",
    "!pip install numpy scipy sympy matplotlib pydy --quiet"
   ]
  },
  {
   "cell_type": "markdown",
   "metadata": {},
   "source": [
    "## 2. Kinematic/Kinetic Motion Analysis\n",
    "### Description\n",
    "This analysis models the kinematics and kinetics of a spacecraft during docking or separation using numerical integration of the equations of motion."
   ]
  },
  {
   "cell_type": "code",
   "metadata": {},
   "source": [
    "import numpy as np\n",
    "import matplotlib.pyplot as plt\n",
    "from scipy.integrate import odeint\n",
    "\n",
    "# Define equations of motion\n",
    "def spacecraft_motion(y, t, u):\n",
    "    pos, vel = y\n",
    "    dydt = [vel, u]\n",
    "    return dydt\n",
    "\n",
    "# Initial conditions\n",
    "y0 = [0.0, 0.0]\n",
    "\n",
    "# Time points\n",
    "t = np.linspace(0, 10, 100)\n",
    "\n",
    "# Control input (constant force)\n",
    "u = 1.0\n",
    "\n",
    "# Solve ODE\n",
    "sol = odeint(spacecraft_motion, y0, t, args=(u,))\n",
    "\n",
    "# Plot motion trajectories\n",
    "plt.plot(t, sol[:, 0], label='Position (m)')\n",
    "plt.plot(t, sol[:, 1], label='Velocity (m/s)')\n",
    "plt.xlabel('Time (s)')\n",
    "plt.ylabel('Response')\n",
    "plt.legend()\n",
    "plt.title('Spacecraft Kinematics During Docking')\n",
    "plt.grid()\n",
    "plt.show()"
   ]
  },
  {
   "cell_type": "markdown",
   "metadata": {},
   "source": [
    "## 3. Finite Element Analysis (FEA)\n",
    "### Description\n",
    "This section simulates a simple spacecraft structure (e.g., a beam) under load using a custom finite element implementation without FEniCS."
   ]
  },
  {
   "cell_type": "code",
   "metadata": {},
   "source": [
    "import numpy as np\n",
    "import matplotlib.pyplot as plt\n",
    "\n",
    "# Define parameters\n",
    "length = 1.0  # Length of the beam (m)\n",
    "num_elements = 10  # Number of elements\n",
    "force = -5.0  # Applied force (N)\n",
    "\n",
    "# Generate node positions\n",
    "nodes = np.linspace(0, length, num_elements + 1)\n",
    "\n",
    "# Define stiffness matrix and force vector\n",
    "K = np.zeros((num_elements + 1, num_elements + 1))\n",
    "F = np.zeros(num_elements + 1)\n",
    "F[-1] = force  # Apply force at the last node\n",
    "\n",
    "# Assemble the global stiffness matrix\n",
    "for i in range(num_elements):\n",
    "    k_local = np.array([[1, -1], [-1, 1]]) * (num_elements / length)\n",
    "    K[i:i+2, i:i+2] += k_local\n",
    "\n",
    "# Apply boundary conditions (fixed at node 0)\n",
    "K = K[1:, 1:]  # Remove first row and column\n",
    "F = F[1:]  # Remove first element\n",
    "\n",
    "# Solve for displacements\n",
    "displacements = np.linalg.solve(K, F)\n",
    "displacements = np.insert(displacements, 0, 0)  # Add zero displacement at the fixed node\n",
    "\n",
    "# Plot the displacement\n",
    "plt.plot(nodes, displacements, marker='o')\n",
    "plt.xlabel('Position along beam (m)')\n",
    "plt.ylabel('Displacement (m)')\n",
    "plt.title('FEA: Displacement of Beam Under Load')\n",
    "plt.grid()\n",
    "plt.show()"
   ]
  },
  {
   "cell_type": "markdown",
   "metadata": {},
   "source": [
    "## 4. Modal Analysis\n",
    "### Description\n",
    "Calculate the natural frequencies and mode shapes of a simple structure using NumPy and SciPy."
   ]
  },
  {
   "cell_type": "code",
   "metadata": {},
   "source": [
    "from scipy.linalg import eigh\n",
    "\n",
    "# Define stiffness (K) and mass (M) matrices\n",
    "K = np.array([[12, -6], [-6, 4]])\n",
    "M = np.array([[2, 0], [0, 1]])\n",
    "\n",
    "# Solve the eigenvalue problem for natural frequencies\n",
    "w, v = eigh(K, M)\n",
    "\n",
    "# Print natural frequencies\n",
    "print(\"Natural frequencies:\", np.sqrt(w))\n",
    "\n",
    "# Plot mode shapes\n",
    "for i in range(len(w)):\n",
    "    plt.plot([0, 1], [0, v[:, i][0]], label=f'Mode {i+1}')\n",
    "plt.title('Mode Shapes')\n",
    "plt.legend()\n",
    "plt.show()"
   ]
  },
  {
   "cell_type": "markdown",
   "metadata": {},
   "source": [
    "## 5. Multibody Dynamics Simulation\n",
    "### Description\n",
    "Use PyDy to simulate the multibody dynamics of a spacecraft docking or separation system."
   ]
  },
  {
   "cell_type": "code",
   "metadata": {},
   "source": [
    "from pydy.system import System\n",
    "from sympy import symbols\n",
    "\n",
    "# Define symbols\n",
    "q, u = symbols('q u')\n",
    "m, g, k = symbols('m g k')\n",
    "\n",
    "# Define equations of motion (example)\n",
    "force = -k * q - m * g\n",
    "\n",
    "# Create system and simulate\n",
    "system = System.from_newtonian(force)\n",
    "results = system.integrate(np.linspace(0, 10, 100))\n",
    "\n",
    "# Plot results\n",
    "plt.plot(results[:, 0], results[:, 1])\n",
    "plt.title('Multibody Dynamics Simulation')\n",
    "plt.xlabel('Time (s)')\n",
    "plt.ylabel('Displacement (m)')\n",
    "plt.show
